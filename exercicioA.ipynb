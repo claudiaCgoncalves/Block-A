{
 "cells": [
  {
   "cell_type": "code",
   "execution_count": 4,
   "metadata": {},
   "outputs": [
    {
     "name": "stdout",
     "output_type": "stream",
     "text": [
      "https://www.pordata.pt/Portugal/Despesa+m%c3%a9dia+di%c3%a1ria+por+turista+total++por+motivo+principal+e+por+destino+da+viagem-2626\n"
     ]
    }
   ],
   "source": [
    "print (\"https://www.pordata.pt/Portugal/Despesa+m%c3%a9dia+di%c3%a1ria+por+turista+total++por+motivo+principal+e+por+destino+da+viagem-2626\")"
   ]
  },
  {
   "cell_type": "code",
   "execution_count": 29,
   "metadata": {},
   "outputs": [],
   "source": [
    "import pandas as pd\n",
    "import csv"
   ]
  },
  {
   "cell_type": "code",
   "execution_count": 43,
   "metadata": {},
   "outputs": [
    {
     "data": {
      "text/html": [
       "<div>\n",
       "<style scoped>\n",
       "    .dataframe tbody tr th:only-of-type {\n",
       "        vertical-align: middle;\n",
       "    }\n",
       "\n",
       "    .dataframe tbody tr th {\n",
       "        vertical-align: top;\n",
       "    }\n",
       "\n",
       "    .dataframe thead th {\n",
       "        text-align: right;\n",
       "    }\n",
       "</style>\n",
       "<table border=\"1\" class=\"dataframe\">\n",
       "  <thead>\n",
       "    <tr style=\"text-align: right;\">\n",
       "      <th></th>\n",
       "      <th>Anos</th>\n",
       "      <th>Total</th>\n",
       "      <th>Lazer, recreio e férias</th>\n",
       "      <th>Visita a Familiares e Amigos</th>\n",
       "      <th>Negócios ou Profissional</th>\n",
       "    </tr>\n",
       "  </thead>\n",
       "  <tbody>\n",
       "    <tr>\n",
       "      <th>0</th>\n",
       "      <td>2001</td>\n",
       "      <td>21.6</td>\n",
       "      <td>22.7</td>\n",
       "      <td>13.5</td>\n",
       "      <td>43.4</td>\n",
       "    </tr>\n",
       "    <tr>\n",
       "      <th>1</th>\n",
       "      <td>2002</td>\n",
       "      <td>25.4</td>\n",
       "      <td>25.6</td>\n",
       "      <td>17.8</td>\n",
       "      <td>46.1</td>\n",
       "    </tr>\n",
       "    <tr>\n",
       "      <th>2</th>\n",
       "      <td>2003</td>\n",
       "      <td>24.8</td>\n",
       "      <td>26.2</td>\n",
       "      <td>14.8</td>\n",
       "      <td>52.3</td>\n",
       "    </tr>\n",
       "    <tr>\n",
       "      <th>3</th>\n",
       "      <td>2004</td>\n",
       "      <td>27.3</td>\n",
       "      <td>28.7</td>\n",
       "      <td>17.5</td>\n",
       "      <td>49.1</td>\n",
       "    </tr>\n",
       "    <tr>\n",
       "      <th>4</th>\n",
       "      <td>2005</td>\n",
       "      <td>24.5</td>\n",
       "      <td>25.5</td>\n",
       "      <td>19.8</td>\n",
       "      <td>31.4</td>\n",
       "    </tr>\n",
       "    <tr>\n",
       "      <th>5</th>\n",
       "      <td>2006</td>\n",
       "      <td>28.2</td>\n",
       "      <td>29.8</td>\n",
       "      <td>19.0</td>\n",
       "      <td>39.4</td>\n",
       "    </tr>\n",
       "    <tr>\n",
       "      <th>6</th>\n",
       "      <td>2007</td>\n",
       "      <td>┴  26.1</td>\n",
       "      <td>┴  25.4</td>\n",
       "      <td>┴  18.6</td>\n",
       "      <td>┴  68.3</td>\n",
       "    </tr>\n",
       "    <tr>\n",
       "      <th>7</th>\n",
       "      <td>2008</td>\n",
       "      <td>37.0</td>\n",
       "      <td>36.2</td>\n",
       "      <td>31.6</td>\n",
       "      <td>70.3</td>\n",
       "    </tr>\n",
       "    <tr>\n",
       "      <th>8</th>\n",
       "      <td>2009</td>\n",
       "      <td>┴  50.6</td>\n",
       "      <td>┴  52.1</td>\n",
       "      <td>┴  33.5</td>\n",
       "      <td>┴  99.9</td>\n",
       "    </tr>\n",
       "    <tr>\n",
       "      <th>9</th>\n",
       "      <td>2010</td>\n",
       "      <td>26.9</td>\n",
       "      <td>29.1</td>\n",
       "      <td>21.3</td>\n",
       "      <td>37.4</td>\n",
       "    </tr>\n",
       "  </tbody>\n",
       "</table>\n",
       "</div>"
      ],
      "text/plain": [
       "   Anos    Total Lazer, recreio e férias Visita a Familiares e Amigos  \\\n",
       "0  2001     21.6                    22.7                         13.5   \n",
       "1  2002     25.4                    25.6                         17.8   \n",
       "2  2003     24.8                    26.2                         14.8   \n",
       "3  2004     27.3                    28.7                         17.5   \n",
       "4  2005     24.5                    25.5                         19.8   \n",
       "5  2006     28.2                    29.8                         19.0   \n",
       "6  2007  ┴  26.1                 ┴  25.4                      ┴  18.6   \n",
       "7  2008     37.0                    36.2                         31.6   \n",
       "8  2009  ┴  50.6                 ┴  52.1                      ┴  33.5   \n",
       "9  2010     26.9                    29.1                         21.3   \n",
       "\n",
       "  Negócios ou Profissional  \n",
       "0                     43.4  \n",
       "1                     46.1  \n",
       "2                     52.3  \n",
       "3                     49.1  \n",
       "4                     31.4  \n",
       "5                     39.4  \n",
       "6                  ┴  68.3  \n",
       "7                     70.3  \n",
       "8                  ┴  99.9  \n",
       "9                     37.4  "
      ]
     },
     "execution_count": 43,
     "metadata": {},
     "output_type": "execute_result"
    }
   ],
   "source": [
    "df = pd.read_csv('Despesas.csv')\n",
    "df.head(10)"
   ]
  },
  {
   "cell_type": "code",
   "execution_count": 44,
   "metadata": {
    "scrolled": true
   },
   "outputs": [
    {
     "data": {
      "text/plain": [
       "Anos                             int64\n",
       "Total                           object\n",
       "Lazer, recreio e férias         object\n",
       "Visita a Familiares e Amigos    object\n",
       "Negócios ou Profissional        object\n",
       "dtype: object"
      ]
     },
     "execution_count": 44,
     "metadata": {},
     "output_type": "execute_result"
    }
   ],
   "source": [
    "df.dtypes"
   ]
  },
  {
   "cell_type": "code",
   "execution_count": null,
   "metadata": {},
   "outputs": [],
   "source": []
  }
 ],
 "metadata": {
  "kernelspec": {
   "display_name": "Python 3",
   "language": "python",
   "name": "python3"
  },
  "language_info": {
   "codemirror_mode": {
    "name": "ipython",
    "version": 3
   },
   "file_extension": ".py",
   "mimetype": "text/x-python",
   "name": "python",
   "nbconvert_exporter": "python",
   "pygments_lexer": "ipython3",
   "version": "3.7.6"
  }
 },
 "nbformat": 4,
 "nbformat_minor": 4
}
